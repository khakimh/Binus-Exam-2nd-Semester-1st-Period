{
 "cells": [
  {
   "cell_type": "markdown",
   "metadata": {},
   "source": [
    "### Import Libraries"
   ]
  },
  {
   "cell_type": "code",
   "execution_count": 1,
   "metadata": {},
   "outputs": [],
   "source": [
    "import pandas as pd\n",
    "from Sastrawi.Stemmer.StemmerFactory import StemmerFactory\n",
    "from Sastrawi.StopWordRemover.StopWordRemoverFactory import StopWordRemoverFactory"
   ]
  },
  {
   "cell_type": "markdown",
   "metadata": {},
   "source": [
    "### Read File"
   ]
  },
  {
   "cell_type": "code",
   "execution_count": 2,
   "metadata": {},
   "outputs": [],
   "source": [
    "df = pd.read_excel('Book1.xlsx')"
   ]
  },
  {
   "cell_type": "code",
   "execution_count": 3,
   "metadata": {},
   "outputs": [
    {
     "data": {
      "text/html": [
       "<div>\n",
       "<style scoped>\n",
       "    .dataframe tbody tr th:only-of-type {\n",
       "        vertical-align: middle;\n",
       "    }\n",
       "\n",
       "    .dataframe tbody tr th {\n",
       "        vertical-align: top;\n",
       "    }\n",
       "\n",
       "    .dataframe thead th {\n",
       "        text-align: right;\n",
       "    }\n",
       "</style>\n",
       "<table border=\"1\" class=\"dataframe\">\n",
       "  <thead>\n",
       "    <tr style=\"text-align: right;\">\n",
       "      <th></th>\n",
       "      <th>Doc ID</th>\n",
       "      <th>Isi Dokumen</th>\n",
       "    </tr>\n",
       "  </thead>\n",
       "  <tbody>\n",
       "    <tr>\n",
       "      <th>0</th>\n",
       "      <td>Doc-1</td>\n",
       "      <td>Perolehan medali emas saat ini di cabang atlet...</td>\n",
       "    </tr>\n",
       "    <tr>\n",
       "      <th>1</th>\n",
       "      <td>Doc-2</td>\n",
       "      <td>Cabang olahraga badminton masih menjadi andala...</td>\n",
       "    </tr>\n",
       "    <tr>\n",
       "      <th>2</th>\n",
       "      <td>Doc-3</td>\n",
       "      <td>Hari ini adalah hari bersejarah bagi Indonesia...</td>\n",
       "    </tr>\n",
       "    <tr>\n",
       "      <th>3</th>\n",
       "      <td>Doc-4</td>\n",
       "      <td>Untuk cabang olahraga menembak, Indonesia bung...</td>\n",
       "    </tr>\n",
       "    <tr>\n",
       "      <th>4</th>\n",
       "      <td>Doc-5</td>\n",
       "      <td>Kegagalan total Indonesia di cabang olahraga s...</td>\n",
       "    </tr>\n",
       "    <tr>\n",
       "      <th>5</th>\n",
       "      <td>Doc-6</td>\n",
       "      <td>Kemenangan ini membuat wakil Indonesia punya p...</td>\n",
       "    </tr>\n",
       "    <tr>\n",
       "      <th>6</th>\n",
       "      <td>Doc-7</td>\n",
       "      <td>Sukses bungkam ganda Jerman, ganda Indonesia p...</td>\n",
       "    </tr>\n",
       "    <tr>\n",
       "      <th>7</th>\n",
       "      <td>Doc-8</td>\n",
       "      <td>Dalam sesi latihan tersebut, pelatih Andrea Pi...</td>\n",
       "    </tr>\n",
       "    <tr>\n",
       "      <th>8</th>\n",
       "      <td>Doc-9</td>\n",
       "      <td>Momen beradu kepala itu diiringi pula dengan s...</td>\n",
       "    </tr>\n",
       "    <tr>\n",
       "      <th>9</th>\n",
       "      <td>Doc-10</td>\n",
       "      <td>Kabar mengejutkan muncul awal pekan ini ketika...</td>\n",
       "    </tr>\n",
       "  </tbody>\n",
       "</table>\n",
       "</div>"
      ],
      "text/plain": [
       "  Doc ID                                         Isi Dokumen\n",
       "0   Doc-1  Perolehan medali emas saat ini di cabang atlet...\n",
       "1   Doc-2  Cabang olahraga badminton masih menjadi andala...\n",
       "2   Doc-3  Hari ini adalah hari bersejarah bagi Indonesia...\n",
       "3   Doc-4  Untuk cabang olahraga menembak, Indonesia bung...\n",
       "4   Doc-5  Kegagalan total Indonesia di cabang olahraga s...\n",
       "5   Doc-6  Kemenangan ini membuat wakil Indonesia punya p...\n",
       "6   Doc-7  Sukses bungkam ganda Jerman, ganda Indonesia p...\n",
       "7   Doc-8  Dalam sesi latihan tersebut, pelatih Andrea Pi...\n",
       "8   Doc-9  Momen beradu kepala itu diiringi pula dengan s...\n",
       "9  Doc-10  Kabar mengejutkan muncul awal pekan ini ketika..."
      ]
     },
     "execution_count": 3,
     "metadata": {},
     "output_type": "execute_result"
    }
   ],
   "source": [
    "df"
   ]
  },
  {
   "cell_type": "markdown",
   "metadata": {},
   "source": [
    "### Create Function"
   ]
  },
  {
   "cell_type": "code",
   "execution_count": 5,
   "metadata": {},
   "outputs": [
    {
     "name": "stdout",
     "output_type": "stream",
     "text": [
      "['yang', 'untuk', 'pada', 'ke', 'para', 'namun', 'menurut', 'antara', 'dia', 'dua', 'ia', 'seperti', 'jika', 'jika', 'sehingga', 'kembali', 'dan', 'tidak', 'ini', 'karena', 'kepada', 'oleh', 'saat', 'harus', 'sementara', 'setelah', 'belum', 'kami', 'sekitar', 'bagi', 'serta', 'di', 'dari', 'telah', 'sebagai', 'masih', 'hal', 'ketika', 'adalah', 'itu', 'dalam', 'bisa', 'bahwa', 'atau', 'hanya', 'kita', 'dengan', 'akan', 'juga', 'ada', 'mereka', 'sudah', 'saya', 'terhadap', 'secara', 'agar', 'lain', 'anda', 'begitu', 'mengapa', 'kenapa', 'yaitu', 'yakni', 'daripada', 'itulah', 'lagi', 'maka', 'tentang', 'demi', 'dimana', 'kemana', 'pula', 'sambil', 'sebelum', 'sesudah', 'supaya', 'guna', 'kah', 'pun', 'sampai', 'sedangkan', 'selagi', 'sementara', 'tetapi', 'apakah', 'kecuali', 'sebab', 'selain', 'seolah', 'seraya', 'seterusnya', 'tanpa', 'agak', 'boleh', 'dapat', 'dsb', 'dst', 'dll', 'dahulu', 'dulunya', 'anu', 'demikian', 'tapi', 'ingin', 'juga', 'nggak', 'mari', 'nanti', 'melainkan', 'oh', 'ok', 'seharusnya', 'sebetulnya', 'setiap', 'setidaknya', 'sesuatu', 'pasti', 'saja', 'toh', 'ya', 'walau', 'tolong', 'tentu', 'amat', 'apalagi', 'bagaimanapun', 'dengan', 'ia', 'bahwa', 'oleh']\n"
     ]
    }
   ],
   "source": [
    "stop_factory = StopWordRemoverFactory()\n",
    "more_stopword = ['dengan', 'ia','bahwa','oleh']\n",
    "data_stop_word = stop_factory.get_stop_words()+more_stopword\n",
    "stopword = stop_factory.create_stop_word_remover()\n",
    "print(data_stop_word)"
   ]
  },
  {
   "cell_type": "code",
   "execution_count": 6,
   "metadata": {},
   "outputs": [],
   "source": [
    "factory = StemmerFactory()\n",
    "stemmer = factory.create_stemmer()"
   ]
  },
  {
   "cell_type": "code",
   "execution_count": 7,
   "metadata": {},
   "outputs": [],
   "source": [
    "def text_processing(text):\n",
    "    clean_stop_word = [str(word) for word in text.split(' ') if word not in data_stop_word]\n",
    "    clean_text = stemmer.stem(' '.join(clean_stop_word))\n",
    "    return clean_text"
   ]
  },
  {
   "cell_type": "markdown",
   "metadata": {},
   "source": [
    "### Preprocessing"
   ]
  },
  {
   "cell_type": "code",
   "execution_count": 8,
   "metadata": {},
   "outputs": [],
   "source": [
    "df['Dokumen Processed'] = df['Isi Dokumen'].apply(text_processing)"
   ]
  },
  {
   "cell_type": "code",
   "execution_count": 9,
   "metadata": {},
   "outputs": [
    {
     "data": {
      "text/html": [
       "<div>\n",
       "<style scoped>\n",
       "    .dataframe tbody tr th:only-of-type {\n",
       "        vertical-align: middle;\n",
       "    }\n",
       "\n",
       "    .dataframe tbody tr th {\n",
       "        vertical-align: top;\n",
       "    }\n",
       "\n",
       "    .dataframe thead th {\n",
       "        text-align: right;\n",
       "    }\n",
       "</style>\n",
       "<table border=\"1\" class=\"dataframe\">\n",
       "  <thead>\n",
       "    <tr style=\"text-align: right;\">\n",
       "      <th></th>\n",
       "      <th>Doc ID</th>\n",
       "      <th>Isi Dokumen</th>\n",
       "      <th>Dokumen Processed</th>\n",
       "    </tr>\n",
       "  </thead>\n",
       "  <tbody>\n",
       "    <tr>\n",
       "      <th>0</th>\n",
       "      <td>Doc-1</td>\n",
       "      <td>Perolehan medali emas saat ini di cabang atlet...</td>\n",
       "      <td>oleh medali emas cabang atletik asai amerika s...</td>\n",
       "    </tr>\n",
       "    <tr>\n",
       "      <th>1</th>\n",
       "      <td>Doc-2</td>\n",
       "      <td>Cabang olahraga badminton masih menjadi andala...</td>\n",
       "      <td>cabang olahraga badminton jadi andal indonesia...</td>\n",
       "    </tr>\n",
       "    <tr>\n",
       "      <th>2</th>\n",
       "      <td>Doc-3</td>\n",
       "      <td>Hari ini adalah hari bersejarah bagi Indonesia...</td>\n",
       "      <td>hari hari sejarah indonesia medali emas hasil ...</td>\n",
       "    </tr>\n",
       "    <tr>\n",
       "      <th>3</th>\n",
       "      <td>Doc-4</td>\n",
       "      <td>Untuk cabang olahraga menembak, Indonesia bung...</td>\n",
       "      <td>untuk cabang olahraga tembak indonesia bungkam...</td>\n",
       "    </tr>\n",
       "    <tr>\n",
       "      <th>4</th>\n",
       "      <td>Doc-5</td>\n",
       "      <td>Kegagalan total Indonesia di cabang olahraga s...</td>\n",
       "      <td>gagal total indonesia cabang olahraga sepak bo...</td>\n",
       "    </tr>\n",
       "    <tr>\n",
       "      <th>5</th>\n",
       "      <td>Doc-6</td>\n",
       "      <td>Kemenangan ini membuat wakil Indonesia punya p...</td>\n",
       "      <td>menang buat wakil indonesia punya peluang lolo...</td>\n",
       "    </tr>\n",
       "    <tr>\n",
       "      <th>6</th>\n",
       "      <td>Doc-7</td>\n",
       "      <td>Sukses bungkam ganda Jerman, ganda Indonesia p...</td>\n",
       "      <td>sukses bungkam ganda jerman ganda indonesia pu...</td>\n",
       "    </tr>\n",
       "    <tr>\n",
       "      <th>7</th>\n",
       "      <td>Doc-8</td>\n",
       "      <td>Dalam sesi latihan tersebut, pelatih Andrea Pi...</td>\n",
       "      <td>dalam sesi latih sebut latih andrea pirlo bagi...</td>\n",
       "    </tr>\n",
       "    <tr>\n",
       "      <th>8</th>\n",
       "      <td>Doc-9</td>\n",
       "      <td>Momen beradu kepala itu diiringi pula dengan s...</td>\n",
       "      <td>momen adu kepala iring rangkai kata cerca main...</td>\n",
       "    </tr>\n",
       "    <tr>\n",
       "      <th>9</th>\n",
       "      <td>Doc-10</td>\n",
       "      <td>Kabar mengejutkan muncul awal pekan ini ketika...</td>\n",
       "      <td>kabar kejut muncul awal pekan barcelona nyata ...</td>\n",
       "    </tr>\n",
       "  </tbody>\n",
       "</table>\n",
       "</div>"
      ],
      "text/plain": [
       "  Doc ID                                         Isi Dokumen  \\\n",
       "0   Doc-1  Perolehan medali emas saat ini di cabang atlet...   \n",
       "1   Doc-2  Cabang olahraga badminton masih menjadi andala...   \n",
       "2   Doc-3  Hari ini adalah hari bersejarah bagi Indonesia...   \n",
       "3   Doc-4  Untuk cabang olahraga menembak, Indonesia bung...   \n",
       "4   Doc-5  Kegagalan total Indonesia di cabang olahraga s...   \n",
       "5   Doc-6  Kemenangan ini membuat wakil Indonesia punya p...   \n",
       "6   Doc-7  Sukses bungkam ganda Jerman, ganda Indonesia p...   \n",
       "7   Doc-8  Dalam sesi latihan tersebut, pelatih Andrea Pi...   \n",
       "8   Doc-9  Momen beradu kepala itu diiringi pula dengan s...   \n",
       "9  Doc-10  Kabar mengejutkan muncul awal pekan ini ketika...   \n",
       "\n",
       "                                   Dokumen Processed  \n",
       "0  oleh medali emas cabang atletik asai amerika s...  \n",
       "1  cabang olahraga badminton jadi andal indonesia...  \n",
       "2  hari hari sejarah indonesia medali emas hasil ...  \n",
       "3  untuk cabang olahraga tembak indonesia bungkam...  \n",
       "4  gagal total indonesia cabang olahraga sepak bo...  \n",
       "5  menang buat wakil indonesia punya peluang lolo...  \n",
       "6  sukses bungkam ganda jerman ganda indonesia pu...  \n",
       "7  dalam sesi latih sebut latih andrea pirlo bagi...  \n",
       "8  momen adu kepala iring rangkai kata cerca main...  \n",
       "9  kabar kejut muncul awal pekan barcelona nyata ...  "
      ]
     },
     "execution_count": 9,
     "metadata": {},
     "output_type": "execute_result"
    }
   ],
   "source": [
    "df"
   ]
  }
 ],
 "metadata": {
  "kernelspec": {
   "display_name": "Python 3",
   "language": "python",
   "name": "python3"
  },
  "language_info": {
   "codemirror_mode": {
    "name": "ipython",
    "version": 3
   },
   "file_extension": ".py",
   "mimetype": "text/x-python",
   "name": "python",
   "nbconvert_exporter": "python",
   "pygments_lexer": "ipython3",
   "version": "3.7.4"
  }
 },
 "nbformat": 4,
 "nbformat_minor": 4
}
